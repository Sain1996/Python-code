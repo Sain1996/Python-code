{
  "nbformat": 4,
  "nbformat_minor": 0,
  "metadata": {
    "colab": {
      "provenance": []
    },
    "kernelspec": {
      "name": "python3",
      "display_name": "Python 3"
    },
    "language_info": {
      "name": "python"
    }
  },
  "cells": [
    {
      "cell_type": "markdown",
      "source": [
        "Question 1"
      ],
      "metadata": {
        "id": "Gg_JINt_M5qO"
      }
    },
    {
      "cell_type": "code",
      "execution_count": 2,
      "metadata": {
        "colab": {
          "base_uri": "https://localhost:8080/"
        },
        "id": "BPOn1QlTMLR_",
        "outputId": "1c8374c7-1cc6-44ef-c07b-ff35508b65ee"
      },
      "outputs": [
        {
          "output_type": "stream",
          "name": "stdout",
          "text": [
            "5\n",
            "15\n",
            "7\n"
          ]
        }
      ],
      "source": [
        "def find_middle_value(num1, num2, num3):\n",
        "    numbers = [num1, num2, num3]\n",
        "    numbers.sort()\n",
        "    return numbers[1]\n",
        "print(find_middle_value(5, 2, 8))\n",
        "print(find_middle_value(10, 20, 15))\n",
        "print(find_middle_value(7, 7, 7))\n"
      ]
    },
    {
      "cell_type": "markdown",
      "source": [
        "Question 2"
      ],
      "metadata": {
        "id": "osGPYCoYM3gW"
      }
    },
    {
      "cell_type": "code",
      "source": [
        "def add(x, y):\n",
        "    return x + y\n",
        "\n",
        "def subtract(x, y):\n",
        "    return x - y\n",
        "\n",
        "def multiply(x, y):\n",
        "    return x * y\n",
        "\n",
        "def divide(x, y):\n",
        "    if y != 0:\n",
        "        return x / y\n",
        "    else:\n",
        "        return \"Cannot divide by zero\"\n",
        "num1 = float(input(\"Enter the first number: \"))\n",
        "operator = input(\"Enter the operator (+, -, *, /): \")\n",
        "num2 = float(input(\"Enter the second number: \"))\n",
        "if operator == '+':\n",
        "    result = add(num1, num2)\n",
        "elif operator == '-':\n",
        "    result = subtract(num1, num2)\n",
        "elif operator == '*':\n",
        "    result = multiply(num1, num2)\n",
        "elif operator == '/':\n",
        "    result = divide(num1, num2)\n",
        "else:\n",
        "    result = \"Invalid operator\"\n",
        "\n",
        "print(f\"Result: {result}\")"
      ],
      "metadata": {
        "colab": {
          "base_uri": "https://localhost:8080/"
        },
        "id": "EREf8kZMMbGL",
        "outputId": "f77e4ebf-78de-4c65-ae21-b858d1c9dbb5"
      },
      "execution_count": 4,
      "outputs": [
        {
          "output_type": "stream",
          "name": "stdout",
          "text": [
            "Enter the first number: 5\n",
            "Enter the operator (+, -, *, /): +\n",
            "Enter the second number: 4\n",
            "Result: 9.0\n"
          ]
        }
      ]
    },
    {
      "cell_type": "markdown",
      "source": [
        "Question 3"
      ],
      "metadata": {
        "id": "MLfadvmYM_4B"
      }
    },
    {
      "cell_type": "code",
      "source": [
        "def calculate_hypotenuse(side1, side2):\n",
        "    hypotenuse = (side1**2 + side2**2)**0.5\n",
        "    return hypotenuse\n",
        "shorter_side1 = float(input(\"Enter the length of the first shorter side: \"))\n",
        "shorter_side2 = float(input(\"Enter the length of the second shorter side: \"))\n",
        "\n",
        "result = calculate_hypotenuse(shorter_side1, shorter_side2)\n",
        "print(f\"The hypotenuse of the right triangle is: {result}\")\n"
      ],
      "metadata": {
        "colab": {
          "base_uri": "https://localhost:8080/"
        },
        "id": "3u12qY86NBfD",
        "outputId": "136674c4-826b-4130-e95c-4035e9e2974f"
      },
      "execution_count": 5,
      "outputs": [
        {
          "output_type": "stream",
          "name": "stdout",
          "text": [
            "Enter the length of the first shorter side: 5\n",
            "Enter the length of the second shorter side: 4\n",
            "The hypotenuse of the right triangle is: 6.4031242374328485\n"
          ]
        }
      ]
    },
    {
      "cell_type": "markdown",
      "source": [
        "Question 4"
      ],
      "metadata": {
        "id": "1vpZq3xcNjrY"
      }
    },
    {
      "cell_type": "code",
      "source": [
        "class Rectangle:\n",
        "    def __init__(self, length, width):\n",
        "        self.length = length\n",
        "        self.width = width\n",
        "\n",
        "    def perimeter(self):\n",
        "        return 2 * (self.length + self.width)\n",
        "\n",
        "    def area(self):\n",
        "        return self.length * self.width\n",
        "\n",
        "    def display(self):\n",
        "        print(f\"Length: {self.length}\")\n",
        "        print(f\"Width: {self.width}\")\n",
        "        print(f\"Perimeter: {self.perimeter()}\")\n",
        "        print(f\"Area: {self.area()}\")\n",
        "rectangle1 = Rectangle(5, 8)\n",
        "rectangle1.display()\n",
        "rectangle2 = Rectangle(3, 6)\n",
        "rectangle2.display()\n"
      ],
      "metadata": {
        "colab": {
          "base_uri": "https://localhost:8080/"
        },
        "id": "45aik0AzNlJY",
        "outputId": "69e92f4c-78ae-4f7f-8065-b1207ffe2a8f"
      },
      "execution_count": 6,
      "outputs": [
        {
          "output_type": "stream",
          "name": "stdout",
          "text": [
            "Length: 5\n",
            "Width: 8\n",
            "Perimeter: 26\n",
            "Area: 40\n",
            "Length: 3\n",
            "Width: 6\n",
            "Perimeter: 18\n",
            "Area: 18\n"
          ]
        }
      ]
    },
    {
      "cell_type": "markdown",
      "source": [
        "Question 5"
      ],
      "metadata": {
        "id": "8pVYAT88R_PD"
      }
    },
    {
      "cell_type": "code",
      "source": [
        "class BankAccount:\n",
        "    def __init__(self, accountNumber, name, balance_rupees):\n",
        "        self.accountNumber = accountNumber\n",
        "        self.name = name\n",
        "        self.balance_rupees = balance_rupees\n",
        "\n",
        "    def deposit(self, amount_rupees):\n",
        "        if amount_rupees > 0:\n",
        "            self.balance_rupees += amount_rupees\n",
        "            print(f\"Deposited ₹{amount_rupees}. New balance: ₹{self.balance_rupees}\")\n",
        "        else:\n",
        "            print(\"Invalid deposit amount.\")\n",
        "\n",
        "    def withdrawal(self, amount_rupees):\n",
        "        if 0 < amount_rupees <= self.balance_rupees:\n",
        "            self.balance_rupees -= amount_rupees\n",
        "            print(f\"Withdrew ₹{amount_rupees}. New balance: ₹{self.balance_rupees}\")\n",
        "        else:\n",
        "            print(\"Invalid withdrawal amount or insufficient funds.\")\n",
        "\n",
        "    def bank_fees(self):\n",
        "        fee = 0.05 * self.balance_rupees\n",
        "        self.balance_rupees -= fee\n",
        "        print(f\"Bank fees (5%): ₹{fee}. New balance: ₹{self.balance_rupees}\")\n",
        "\n",
        "    def display(self):\n",
        "        print(\"Account Details:\")\n",
        "        print(f\"Account Number: {self.accountNumber}\")\n",
        "        print(f\"Account Owner: {self.name}\")\n",
        "        print(f\"Balance: ₹{self.balance_rupees}\")\n",
        "\n",
        "account1 = BankAccount(123456, \"John Doe\", 1000)\n",
        "account1.deposit(500)\n",
        "account1.withdrawal(200)\n",
        "account1.bank_fees()\n",
        "account1.display()\n"
      ],
      "metadata": {
        "colab": {
          "base_uri": "https://localhost:8080/"
        },
        "id": "Bi5ZnXQsSdj_",
        "outputId": "ea3b8489-dd32-47ec-cdf8-b02b8a143a46"
      },
      "execution_count": 9,
      "outputs": [
        {
          "output_type": "stream",
          "name": "stdout",
          "text": [
            "Deposited ₹500. New balance: ₹1500\n",
            "Withdrew ₹200. New balance: ₹1300\n",
            "Bank fees (5%): ₹65.0. New balance: ₹1235.0\n",
            "Account Details:\n",
            "Account Number: 123456\n",
            "Account Owner: John Doe\n",
            "Balance: ₹1235.0\n"
          ]
        }
      ]
    },
    {
      "cell_type": "markdown",
      "source": [],
      "metadata": {
        "id": "jbI0Go4hSVTu"
      }
    }
  ]
}