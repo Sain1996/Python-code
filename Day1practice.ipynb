{
  "nbformat": 4,
  "nbformat_minor": 0,
  "metadata": {
    "colab": {
      "provenance": []
    },
    "kernelspec": {
      "name": "python3",
      "display_name": "Python 3"
    },
    "language_info": {
      "name": "python"
    }
  },
  "cells": [
    {
      "cell_type": "markdown",
      "source": [
        "Question 1"
      ],
      "metadata": {
        "id": "ZiZa2bHozYvY"
      }
    },
    {
      "cell_type": "code",
      "execution_count": 1,
      "metadata": {
        "colab": {
          "base_uri": "https://localhost:8080/"
        },
        "id": "hw9mmgXylcD8",
        "outputId": "3318055c-e277-42ba-a5c9-3a02049cbfd1"
      },
      "outputs": [
        {
          "output_type": "stream",
          "name": "stdout",
          "text": [
            "Hello\n"
          ]
        }
      ],
      "source": [
        "String=('Hello, World!')\n",
        "print(String[:5])"
      ]
    },
    {
      "cell_type": "markdown",
      "source": [
        "Question 2"
      ],
      "metadata": {
        "id": "qXswldbezeqf"
      }
    },
    {
      "cell_type": "code",
      "source": [
        "String=('Python is fun')\n",
        "print(String[7:10])"
      ],
      "metadata": {
        "colab": {
          "base_uri": "https://localhost:8080/"
        },
        "id": "xhna8LeamGp3",
        "outputId": "cec3fb6c-efb6-477a-b8a7-ea52e425b0b9"
      },
      "execution_count": 3,
      "outputs": [
        {
          "output_type": "stream",
          "name": "stdout",
          "text": [
            "is \n"
          ]
        }
      ]
    },
    {
      "cell_type": "markdown",
      "source": [
        "Question 3"
      ],
      "metadata": {
        "id": "dG58-RrOzgBq"
      }
    },
    {
      "cell_type": "code",
      "source": [
        "String=('Programming')\n",
        "print(String[3:7])"
      ],
      "metadata": {
        "colab": {
          "base_uri": "https://localhost:8080/"
        },
        "id": "ge1SyVcQmeXg",
        "outputId": "620aa913-5cad-4c20-e018-9276849727ed"
      },
      "execution_count": 4,
      "outputs": [
        {
          "output_type": "stream",
          "name": "stdout",
          "text": [
            "gram\n"
          ]
        }
      ]
    },
    {
      "cell_type": "markdown",
      "source": [
        "Question 4"
      ],
      "metadata": {
        "id": "frHJZfHUzjaR"
      }
    },
    {
      "cell_type": "code",
      "source": [
        "string=('abcdefg')\n",
        "print(string[1:7:2])"
      ],
      "metadata": {
        "colab": {
          "base_uri": "https://localhost:8080/"
        },
        "id": "A3BGK0XhnBOy",
        "outputId": "c73f4fdd-8b95-44c4-850b-d130dac4ece9"
      },
      "execution_count": 9,
      "outputs": [
        {
          "output_type": "stream",
          "name": "stdout",
          "text": [
            "bdf\n"
          ]
        }
      ]
    },
    {
      "cell_type": "markdown",
      "source": [
        "Question 5"
      ],
      "metadata": {
        "id": "cSLswefnzlHe"
      }
    },
    {
      "cell_type": "code",
      "source": [
        "string=('abcdefg')\n",
        "print(string[-3:])"
      ],
      "metadata": {
        "colab": {
          "base_uri": "https://localhost:8080/"
        },
        "id": "ZuLgaBR3nlFd",
        "outputId": "5309af9b-0a2f-42e9-e413-e00f76cd2c8c"
      },
      "execution_count": 11,
      "outputs": [
        {
          "output_type": "stream",
          "name": "stdout",
          "text": [
            "efg\n"
          ]
        }
      ]
    },
    {
      "cell_type": "markdown",
      "source": [
        "Question 6"
      ],
      "metadata": {
        "id": "GM7ZHB1wzmmR"
      }
    },
    {
      "cell_type": "code",
      "source": [
        "string=('Data Science')\n",
        "print(string[-3:])"
      ],
      "metadata": {
        "colab": {
          "base_uri": "https://localhost:8080/"
        },
        "id": "VvDWye1EoSV4",
        "outputId": "6b5556bf-96d5-47c7-f3ea-e2e2eaf08fa1"
      },
      "execution_count": 12,
      "outputs": [
        {
          "output_type": "stream",
          "name": "stdout",
          "text": [
            "nce\n"
          ]
        }
      ]
    },
    {
      "cell_type": "markdown",
      "source": [
        "Question 7"
      ],
      "metadata": {
        "id": "st8DEm62zoDm"
      }
    },
    {
      "cell_type": "code",
      "source": [
        "string=('abcdefghij')\n",
        "print(string[1::2])"
      ],
      "metadata": {
        "colab": {
          "base_uri": "https://localhost:8080/"
        },
        "id": "1tp4RPN6oqSb",
        "outputId": "412ac8f6-155f-478b-9c60-2ee27d9b1b27"
      },
      "execution_count": 14,
      "outputs": [
        {
          "output_type": "stream",
          "name": "stdout",
          "text": [
            "bdfhj\n"
          ]
        }
      ]
    },
    {
      "cell_type": "markdown",
      "source": [
        "Question 8"
      ],
      "metadata": {
        "id": "CfJ2PYoPzpQr"
      }
    },
    {
      "cell_type": "code",
      "source": [
        "string=('1234567890')\n",
        "print(string[::2])"
      ],
      "metadata": {
        "colab": {
          "base_uri": "https://localhost:8080/"
        },
        "id": "iRfzdebupk03",
        "outputId": "fc431b65-b1f7-4e96-92e3-4cbe93790b12"
      },
      "execution_count": 15,
      "outputs": [
        {
          "output_type": "stream",
          "name": "stdout",
          "text": [
            "13579\n"
          ]
        }
      ]
    },
    {
      "cell_type": "markdown",
      "source": [
        "Question 9"
      ],
      "metadata": {
        "id": "uN37LHmHzrIE"
      }
    },
    {
      "cell_type": "code",
      "source": [
        "string=('Hello')\n",
        "print(string[::-1])"
      ],
      "metadata": {
        "colab": {
          "base_uri": "https://localhost:8080/"
        },
        "id": "oaOpn3SApuzn",
        "outputId": "6541305a-cfd7-4d0d-d261-e514bfa302d1"
      },
      "execution_count": 19,
      "outputs": [
        {
          "output_type": "stream",
          "name": "stdout",
          "text": [
            "olleH\n"
          ]
        }
      ]
    },
    {
      "cell_type": "markdown",
      "source": [
        "Question 10"
      ],
      "metadata": {
        "id": "DwKyQt4vzsk5"
      }
    },
    {
      "cell_type": "code",
      "source": [
        "string=('abcdefghijk')\n",
        "print(string[::2])"
      ],
      "metadata": {
        "colab": {
          "base_uri": "https://localhost:8080/"
        },
        "id": "jdeDoGN1qHRo",
        "outputId": "f8e78bd7-158b-4380-ba70-f1f35a8e6bec"
      },
      "execution_count": 20,
      "outputs": [
        {
          "output_type": "stream",
          "name": "stdout",
          "text": [
            "acegik\n"
          ]
        }
      ]
    }
  ]
}