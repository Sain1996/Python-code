{
  "nbformat": 4,
  "nbformat_minor": 0,
  "metadata": {
    "colab": {
      "provenance": []
    },
    "kernelspec": {
      "name": "python3",
      "display_name": "Python 3"
    },
    "language_info": {
      "name": "python"
    }
  },
  "cells": [
    {
      "cell_type": "markdown",
      "source": [
        "Question 1"
      ],
      "metadata": {
        "id": "VNsyV6Qb17gu"
      }
    },
    {
      "cell_type": "code",
      "execution_count": 1,
      "metadata": {
        "colab": {
          "base_uri": "https://localhost:8080/"
        },
        "id": "BV9yD0nW1pox",
        "outputId": "2395f99c-c617-432d-d3a3-74db40865366"
      },
      "outputs": [
        {
          "output_type": "stream",
          "name": "stdout",
          "text": [
            "The runner-up score is: 8\n"
          ]
        }
      ],
      "source": [
        "def find_runner_up_score(scores):\n",
        "    unique_scores = list(set(scores))\n",
        "    unique_scores.sort(reverse=True)\n",
        "\n",
        "    if len(unique_scores) > 1:\n",
        "        runner_up_score = unique_scores[1]\n",
        "        return runner_up_score\n",
        "    else:\n",
        "        return \"No runner-up score available.\"\n",
        "\n",
        "scores = [10, 5, 8, 10, 7, 2, 8, 7]\n",
        "runner_up = find_runner_up_score(scores)\n",
        "\n",
        "print(f\"The runner-up score is: {runner_up}\")\n"
      ]
    },
    {
      "cell_type": "markdown",
      "source": [
        "Question 2"
      ],
      "metadata": {
        "id": "mZoTaIFF2DXF"
      }
    },
    {
      "cell_type": "code",
      "source": [
        "D = {'John': [25, 32, 43], 'Peter': [87, 55, 96], 'Ram': [58, 55, 43], 'Meena': [63, 79, 85]}\n",
        "\n",
        "name = input(\"Enter a name: \")\n",
        "\n",
        "if name in D:\n",
        "    D[name] = [88, 77, 99]\n",
        "    print(\"Updated dictionary:\", D)\n",
        "else:\n",
        "    print(\"Name not found.\")\n"
      ],
      "metadata": {
        "colab": {
          "base_uri": "https://localhost:8080/"
        },
        "id": "GC974m511_WT",
        "outputId": "7c171f09-16e8-42f7-c3e7-fdf34851b6ee"
      },
      "execution_count": 5,
      "outputs": [
        {
          "output_type": "stream",
          "name": "stdout",
          "text": [
            "Enter a name: Ram\n",
            "Updated dictionary: {'John': [25, 32, 43], 'Peter': [87, 55, 96], 'Ram': [88, 77, 99], 'Meena': [63, 79, 85]}\n"
          ]
        }
      ]
    },
    {
      "cell_type": "markdown",
      "source": [
        "Question 3"
      ],
      "metadata": {
        "id": "NghgY7BD2k9m"
      }
    },
    {
      "cell_type": "code",
      "source": [
        "age = int(input(\"Enter your age: \"))\n",
        "gender = input(\"Enter your gender (male/female): \").lower()\n",
        "\n",
        "if age < 5:\n",
        "    ticket_price = 0\n",
        "elif 5 <= age <= 12:\n",
        "    ticket_price = 10\n",
        "elif age > 60:\n",
        "    ticket_price = 0\n",
        "else:\n",
        "    ticket_price = 50\n",
        "\n",
        "if gender == 'female':\n",
        "    ticket_price *= 0.5\n",
        "\n",
        "print(f\"Your ticket price is: Rs. {ticket_price}\")\n",
        "\n"
      ],
      "metadata": {
        "colab": {
          "base_uri": "https://localhost:8080/"
        },
        "id": "EnPEr9J42luV",
        "outputId": "8e148265-f31b-4802-aa05-c939d7b8d52b"
      },
      "execution_count": 9,
      "outputs": [
        {
          "output_type": "stream",
          "name": "stdout",
          "text": [
            "Enter your age: 7\n",
            "Enter your gender (male/female): male\n",
            "Your ticket price is: Rs. 10\n"
          ]
        }
      ]
    }
  ]
}