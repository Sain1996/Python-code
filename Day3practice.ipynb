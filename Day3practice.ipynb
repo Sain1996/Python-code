{
  "nbformat": 4,
  "nbformat_minor": 0,
  "metadata": {
    "colab": {
      "provenance": []
    },
    "kernelspec": {
      "name": "python3",
      "display_name": "Python 3"
    },
    "language_info": {
      "name": "python"
    }
  },
  "cells": [
    {
      "cell_type": "markdown",
      "source": [
        "Question 1"
      ],
      "metadata": {
        "id": "c7eqiEkSxNKl"
      }
    },
    {
      "cell_type": "code",
      "execution_count": 11,
      "metadata": {
        "colab": {
          "base_uri": "https://localhost:8080/"
        },
        "id": "MrIro7QnuZQI",
        "outputId": "85f6c669-04e7-48e7-b1f0-b58b644b4094"
      },
      "outputs": [
        {
          "output_type": "stream",
          "name": "stdout",
          "text": [
            "Enter a number between 1 and 10: 2\n",
            "Too high! Try again.\n",
            "Enter a number between 1 and 10: 9\n",
            "Too high! Try again.\n",
            "Enter a number between 1 and 10: 5\n",
            "Too high! Try again.\n",
            "Enter a number between 1 and 10: 1\n",
            "Congratulations! You guessed the number correctly!\n"
          ]
        }
      ],
      "source": [
        "import random\n",
        "\n",
        "def guess_game():\n",
        "    secret_number = random.randint(1, 10)\n",
        "\n",
        "    while True:\n",
        "        guess = int(input(\"Enter a number between 1 and 10: \"))\n",
        "\n",
        "        if guess == secret_number:\n",
        "            print(\"Congratulations! You guessed the number correctly!\")\n",
        "            break\n",
        "        elif guess > secret_number:\n",
        "            print(\"Too high! Try again.\")\n",
        "        else:\n",
        "            print(\"Too low! Try again.\")\n",
        "\n",
        "guess_game()\n"
      ]
    },
    {
      "cell_type": "markdown",
      "source": [
        "Question 2"
      ],
      "metadata": {
        "id": "n73cmomjyLGr"
      }
    },
    {
      "cell_type": "code",
      "source": [
        "def factorial(N):\n",
        "    result = 1\n",
        "    for i in range(1, N + 1):\n",
        "        result *= i\n",
        "    return result\n",
        "\n",
        "N = int(input(\"Enter a positive integer N: \"))\n",
        "result = factorial(N)\n",
        "print(f\"The factorial of {N} is: {result}\")\n"
      ],
      "metadata": {
        "colab": {
          "base_uri": "https://localhost:8080/"
        },
        "id": "goaptCDWyftu",
        "outputId": "dc4f0b88-dbad-488d-9320-328e3c711cf3"
      },
      "execution_count": 14,
      "outputs": [
        {
          "output_type": "stream",
          "name": "stdout",
          "text": [
            "Enter a positive integer N: 5\n",
            "The factorial of 5 is: 120\n"
          ]
        }
      ]
    },
    {
      "cell_type": "code",
      "source": [
        "def profile_picture(L, N, photos):\n",
        "    for photo in photos:\n",
        "        W, H = photo\n",
        "\n",
        "        if W < L or H < L:\n",
        "            print(\"UPLOAD ANOTHER\")\n",
        "        elif W == H:\n",
        "            print(\"ACCEPTED\")\n",
        "        else:\n",
        "            print(\"CROP IT\")\n",
        "\n",
        "L = int(input(\"Enter the minimum dimension L: \"))\n",
        "N = int(input(\"Enter the number of photos: \"))\n",
        "\n",
        "photos = []\n",
        "for _ in range(N):\n",
        "    dimensions = input(\"Enter the dimensions (W H) of the photo: \").split()\n",
        "    W, H = map(int, dimensions)\n",
        "    photos.append((W, H))\n",
        "\n",
        "profile_picture(L, N, photos)\n"
      ],
      "metadata": {
        "colab": {
          "base_uri": "https://localhost:8080/"
        },
        "id": "5AGVprKVxR82",
        "outputId": "549d3929-c7bd-4158-93dc-a4dd47c37eef"
      },
      "execution_count": 13,
      "outputs": [
        {
          "output_type": "stream",
          "name": "stdout",
          "text": [
            "Enter the minimum dimension L: 8\n",
            "Enter the number of photos: 2\n",
            "Enter the dimensions (W H) of the photo: 4 5\n",
            "Enter the dimensions (W H) of the photo: 5 8\n",
            "UPLOAD ANOTHER\n",
            "UPLOAD ANOTHER\n"
          ]
        }
      ]
    }
  ]
}