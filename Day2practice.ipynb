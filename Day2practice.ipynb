{
  "nbformat": 4,
  "nbformat_minor": 0,
  "metadata": {
    "colab": {
      "provenance": []
    },
    "kernelspec": {
      "name": "python3",
      "display_name": "Python 3"
    },
    "language_info": {
      "name": "python"
    }
  },
  "cells": [
    {
      "cell_type": "markdown",
      "source": [
        "Question 1"
      ],
      "metadata": {
        "id": "MfQD1V0jB-ey"
      }
    },
    {
      "cell_type": "code",
      "execution_count": 1,
      "metadata": {
        "colab": {
          "base_uri": "https://localhost:8080/"
        },
        "id": "i4WfJrfD7_T6",
        "outputId": "1a3dcbc6-90cd-4a55-e708-3b47c430bfc0"
      },
      "outputs": [
        {
          "output_type": "stream",
          "name": "stdout",
          "text": [
            "Sum of elements: 15\n"
          ]
        }
      ],
      "source": [
        "integer = [1, 2, 3, 4, 5]\n",
        "print(\"Sum of elements:\",sum(integer))"
      ]
    },
    {
      "cell_type": "markdown",
      "source": [
        "Question 2"
      ],
      "metadata": {
        "id": "j-lZ3PFKCHLD"
      }
    },
    {
      "cell_type": "code",
      "source": [
        "string = input(\"Enter a sentence: \")\n",
        "print(\"Length of the string:\", len(string))\n",
        "half_length = len(string) // 2\n",
        "print(\"First half of the string:\", string[:half_length])"
      ],
      "metadata": {
        "colab": {
          "base_uri": "https://localhost:8080/"
        },
        "id": "mVer4Q27885S",
        "outputId": "10414131-2432-4dd5-e9e1-29c914e1e1af"
      },
      "execution_count": 3,
      "outputs": [
        {
          "output_type": "stream",
          "name": "stdout",
          "text": [
            "Enter a sentence: python is an object oriented language\n",
            "Length of the string: 37\n",
            "First half of the string: python is an objec\n"
          ]
        }
      ]
    },
    {
      "cell_type": "markdown",
      "source": [
        "Question 4"
      ],
      "metadata": {
        "id": "7r2tx8JkCJtH"
      }
    },
    {
      "cell_type": "code",
      "source": [
        "listA = [19, 32, 10, 55, 31, 32, 94, 29, 10, 65, 77, 40, 40]\n",
        "if 32 in listA:\n",
        "listA.remove(32)\n",
        "listA = [value for value in listA if value != 40]\n",
        "if len(listA) > 5:\n",
        "del listA[5]\n",
        "if len(listA) > 9:\n",
        "listA[9] = 300\n",
        "listA.insert(2, 200)\n",
        "print(\"Final List:\", listA)\n",
        "print(\"Length of the list:\", len(listA))\n",
        "print(\"Maximum value in the list:\", max(listA))\n",
        "print(\"Sum of all elements in the list:\", sum(listA))"
      ],
      "metadata": {
        "colab": {
          "base_uri": "https://localhost:8080/"
        },
        "id": "AxQvQQcm9qEG",
        "outputId": "c92f7c42-647c-4ea4-a761-7b16fac81bf4"
      },
      "execution_count": 4,
      "outputs": [
        {
          "output_type": "stream",
          "name": "stdout",
          "text": [
            "Final List: [19, 10, 200, 55, 31, 32, 29, 10, 65, 77]\n",
            "Length of the list: 10\n",
            "Maximum value in the list: 200\n",
            "Sum of all elements in the list: 528\n"
          ]
        }
      ]
    },
    {
      "cell_type": "markdown",
      "source": [
        "Question 5"
      ],
      "metadata": {
        "id": "uu_c9hfyCLig"
      }
    },
    {
      "cell_type": "code",
      "source": [
        "string = \"The day has been long\"\n",
        "string = string[:4] + string[5:]\n",
        "print(\" \".join([string] * 4))\n",
        "print((string + \"\\n\") * 3)\n",
        "string = string[:7] + 'A' + string[8:]\n",
        "print(string[4:16])\n",
        "print(\"Final String:\", string)\n",
        "print(\"Length of the string:\", len(string))"
      ],
      "metadata": {
        "colab": {
          "base_uri": "https://localhost:8080/"
        },
        "id": "uhqxE0xQ-t4O",
        "outputId": "cd3eb2a5-35da-4762-aecc-cd378123060a"
      },
      "execution_count": 7,
      "outputs": [
        {
          "output_type": "stream",
          "name": "stdout",
          "text": [
            "The ay has been long The ay has been long The ay has been long The ay has been long\n",
            "The ay has been long\n",
            "The ay has been long\n",
            "The ay has been long\n",
            "\n",
            "ay Aas been \n",
            "Final String: The ay Aas been long\n",
            "Length of the string: 20\n"
          ]
        }
      ]
    }
  ]
}